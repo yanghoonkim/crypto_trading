{
 "cells": [
  {
   "cell_type": "markdown",
   "metadata": {},
   "source": [
    "# 변동성 돌파 전략 in 파이썬을 이용한 비트코인 자동매매\n",
    "\n",
    "#### 1) 가격 변동폭 계산: 투자하려는 가상화폐의 전일 고가(high)에서 전일 저가(low)를 빼서 가상화폐의 가격 변동폭을 구합니다.\n",
    "#### 2) 매수 기준: 당일 시간에서 (변동폭 * ratio) 이상 상승하면 해당 가격에 바로 매수합니다.\n",
    "#### 3) 매도 기준: 당일 종가에 매도합니다.\n",
    "#### 4) 가상화폐는 24시간 거래됨으로 아래에서는 freq 변수를 이용하여 하루의 기준을 정합니다."
   ]
  },
  {
   "cell_type": "code",
   "execution_count": 1,
   "metadata": {},
   "outputs": [],
   "source": [
    "from datetime import datetime, timezone\n",
    "import ccxt\n",
    "import time\n",
    "import pandas as pd\n",
    "\n",
    "# Market: Binance\n",
    "binance = ccxt.binance({'enableRateLimit': True})"
   ]
  },
  {
   "cell_type": "code",
   "execution_count": 2,
   "metadata": {},
   "outputs": [],
   "source": [
    "# Hyperparameters\n",
    "ticker = 'XRP/USDC'\n",
    "freq = 24 # hours\n",
    "original_seed = 50 # seed money, usdc\n",
    "ratio = 0.5\n",
    "days = 10 # historical data for back-testing. historical data: (current_moment - n_days) ~ current_moment\n",
    "\n",
    "# Variables\n",
    "amount = 0 # amount of crypto to buy/sell\n",
    "previous_time = 0\n",
    "target_price = 0\n",
    "buy_flag = 1\n",
    "taget_flag = 1 \n",
    "ror_list = list()"
   ]
  },
  {
   "cell_type": "code",
   "execution_count": 3,
   "metadata": {},
   "outputs": [],
   "source": [
    "# Get historical data\n",
    "days_in_ms = days * 24 * 60 * 60 * 1000 # millisecond\n",
    "now = datetime.now().timestamp()\n",
    "now_in_ms = (now - now % 60) * 1000\n",
    "since = now_in_ms - days_in_ms\n",
    "\n",
    "ohlcvs = list()\n",
    "for since_ in range(int(since), int(now_in_ms), 1000*1000*60):\n",
    "    ohlcvs.extend(binance.fetch_ohlcv(ticker, since=since_, limit=1000))\n",
    "    time.sleep(binance.rateLimit / 1000)"
   ]
  },
  {
   "cell_type": "code",
   "execution_count": 4,
   "metadata": {},
   "outputs": [],
   "source": [
    "# Concatenate o, h, l, c\n",
    "# Useless\n",
    "price_history = list()\n",
    "for item in ohlcvs:\n",
    "    price_history.extend(item[1:5])"
   ]
  },
  {
   "cell_type": "code",
   "execution_count": 5,
   "metadata": {},
   "outputs": [],
   "source": [
    "def get_target_price(ohlcvs, freq, timestep, ratio):\n",
    "    df = pd.DataFrame(ohlcvs[timestep - freq * 60:timestep])\n",
    "    df.columns =  ['time', 'open', 'high', 'low', 'close', 'volume']\n",
    "    df = df.set_index('time')\n",
    "    \n",
    "    current_open  = ohlcvs[timestep][1] # open price\n",
    "    previous_high = max(df.high)\n",
    "    previous_low = max(df.low)\n",
    "    target_price = current_open + (previous_high - previous_low) * ratio\n",
    "    return target_price"
   ]
  },
  {
   "cell_type": "code",
   "execution_count": 6,
   "metadata": {},
   "outputs": [
    {
     "name": "stdout",
     "output_type": "stream",
     "text": [
      "Target Price:\t0.214570\n",
      "Buy at:\t\t0.214790\n",
      "Sell at:\t0.234400\n",
      "------------------------\n",
      "Target Price:\t0.235450\n",
      "Buy at:\t\t0.235530\n",
      "Sell at:\t0.225080\n",
      "------------------------\n",
      "Target Price:\t0.225705\n",
      "Buy at:\t\t0.225900\n",
      "Sell at:\t0.220100\n",
      "------------------------\n",
      "Target Price:\t0.220145\n",
      "Buy at:\t\t0.220250\n",
      "Sell at:\t0.233860\n",
      "------------------------\n",
      "Target Price:\t0.236010\n",
      "Buy at:\t\t0.236120\n",
      "Sell at:\t0.232350\n",
      "------------------------\n",
      "Target Price:\t0.232720\n",
      "Buy at:\t\t0.232860\n",
      "Sell at:\t0.225640\n",
      "------------------------\n",
      "Target Price:\t0.226140\n",
      "Buy at:\t\t0.226500\n",
      "Sell at:\t0.296000\n",
      "------------------------\n",
      "Target Price:\t0.297880\n",
      "Buy at:\t\t0.298710\n",
      "Sell at:\t0.320740\n",
      "------------------------\n",
      "Target Price:\t0.323150\n",
      "Buy at:\t\t0.324000\n",
      "Sell at:\t0.319680\n",
      "------------------------\n",
      "Target Price:\t0.320565\n",
      "\n",
      "Original seed money:\t50.000000\n",
      "Final seed money:\t69.944775\n",
      "MDD(%): 7.262275\n"
     ]
    }
   ],
   "source": [
    "seed = original_seed\n",
    "\n",
    "for timestep, ohlcv in enumerate(ohlcvs):\n",
    "    current_time = timestep\n",
    "    if_sell = timestep - previous_time >=  60 * freq\n",
    "    \n",
    "    if current_time % 60  == 0 and if_sell:\n",
    "        #from IPython.core.debugger import Tracer; Tracer()() \n",
    "        if amount > 0:\n",
    "            previous_seed = seed\n",
    "            seed = ohlcv[1] * amount * 0.999 # use lowest price,transaction fee: 0.1%\n",
    "            ror_list.append(1 + (seed - previous_seed) / previous_seed)\n",
    "            print('Sell at:\\t%f'%ohlcv[1])\n",
    "            print('------------------------')\n",
    "            buy_flag = 1\n",
    "        \n",
    "        target_price = get_target_price(ohlcvs, freq, current_time, ratio)\n",
    "        print('Target Price:\\t%f'%target_price)\n",
    "        target_flag = 0\n",
    "        \n",
    "        previous_time = current_time\n",
    "\n",
    "    \n",
    "    # Get current price\n",
    "    # 틱단위 데이터 혹은 초 단위 데이터가 존재 하지 않음으로 open, high, low, close 가격을 순차적 가격으로 가정합니다.\n",
    "    for price in ohlcv[1:5]:\n",
    "        # Compare target price with the current price\n",
    "        if price > target_price and buy_flag == 1 and target_price != 0:\n",
    "            print('Buy at:\\t\\t%f'%price)\n",
    "            amount = seed * 0.999 / price # transaction fee: 0.1%\n",
    "            buy_flag = 0\n",
    "\n",
    "print('\\nOriginal seed money:\\t%f'%original_seed)\n",
    "print('Final seed money:\\t%f'%seed)    \n",
    "\n",
    "# Approximately Calculate MDD (Maximum Draw Down)\n",
    "# MDD(Maximum Draw Down)은 투자 기간 중에 포트폴리오의 전 고점에서 저점까지의 최대 누적 손실을 의미합니다. \n",
    "# MDD를 계산하는 수식은 다음과 같습니다. \n",
    "# max는 전고점 low는 저점을 의미합니다.\n",
    "# MDD = (high - low) /  high * 100\n",
    "df = pd.DataFrame({'ror': ror_list})\n",
    "df['hpr'] = df['ror'].cumprod()\n",
    "df['dd'] = (df['hpr'].cummax() - df['hpr']) / df['hpr'].cummax() * 100\n",
    "print('MDD(%%): %f'%(df['dd'].max()))"
   ]
  }
 ],
 "metadata": {
  "kernelspec": {
   "display_name": "torch",
   "language": "python",
   "name": "torch"
  },
  "language_info": {
   "codemirror_mode": {
    "name": "ipython",
    "version": 3
   },
   "file_extension": ".py",
   "mimetype": "text/x-python",
   "name": "python",
   "nbconvert_exporter": "python",
   "pygments_lexer": "ipython3",
   "version": "3.7.9"
  }
 },
 "nbformat": 4,
 "nbformat_minor": 2
}
